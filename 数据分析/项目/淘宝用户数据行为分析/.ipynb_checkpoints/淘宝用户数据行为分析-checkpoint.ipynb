{
 "cells": [
  {
   "cell_type": "markdown",
   "id": "weekly-murder",
   "metadata": {},
   "source": [
    "# 淘宝用户行为分析"
   ]
  },
  {
   "cell_type": "markdown",
   "id": "elect-project",
   "metadata": {},
   "source": [
    "## 1.数据描述\n",
    "### 1.1概述\n",
    "[数据来源](https://tianchi.aliyun.com/dataset/dataDetail?dataId=649&userId=1)\n",
    "UserBehavior是阿里巴巴提供的一个淘宝用户行为数据集，用于隐式反馈推荐问题的研究。\n",
    "### 1.2介绍\n",
    "| 文件名称     | 说明                 | 包含特征                                 |  \n",
    "| ---------------- | ---------------------- | -------------------------------------------- |  \n",
    "| UserBehavior.csv | 包含所有的用户行为数据 | 用户ID，商品ID，商品类目ID，行为类型，时间戳 |  \n",
    "\n",
    "UserBehavior.csv\n",
    "本数据集包含了2017年11月25日至2017年12月3日之间，有行为的约一百万随机用户的所有行为（行为包括点击、购买、加购、喜欢）。数据集共3.4G。数据集的组织形式和MovieLens-20M类似，即数据集的每一行表示一条用户行为，由用户ID、商品ID、商品类目ID、行为类型和时间戳组成，并以逗号分隔。关于数据集中每一列的详细描述如下：\n",
    "\n",
    "\n",
    "| 列名称     | 说明                                               |\n",
    "| :--------- | :------------------------------------------------- |\n",
    "| 用户ID     | 整数类型，序列化后的用户ID                         |\n",
    "| 商品ID     | 整数类型，序列化后的商品ID                         |\n",
    "| 商品类目ID | 整数类型，序列化后的商品所属类目ID                 |\n",
    "| 行为类型   | 字符串，枚举类型，包括('pv', 'buy', 'cart', 'fav') |\n",
    "| 时间戳     | 行为发生的时间戳                                   |\n",
    "\n",
    "注意到，用户行为类型共有四种，它们分别是\n",
    "\n",
    "| 行为类型 | 说明                     |\n",
    "| :------- | :----------------------- |\n",
    "| pv       | 商品详情页pv，等价于点击 |\n",
    "| buy      | 商品购买                 |\n",
    "| cart     | 将商品加入购物车         |\n",
    "| fav      | 收藏商品                 |\n",
    "\n",
    "关于数据集大小的一些说明如下\n",
    "\n",
    "| 维度         | 数量        |\n",
    "| :----------- | :---------- |\n",
    "| 用户数量     | 987,994     |\n",
    "| 商品数量     | 4,162,024   |\n",
    "| 用户数量     | 987,994     |\n",
    "| 商品类目数量 | 9,439       |\n",
    "| 所有行为数量 | 100,150,807 |\n"
   ]
  },
  {
   "cell_type": "markdown",
   "id": "casual-explanation",
   "metadata": {},
   "source": [
    "## 2.数据分析\n",
    "### 2.1 描述性分析\n",
    "导入项目需要工具包\n"
   ]
  },
  {
   "cell_type": "code",
   "execution_count": 1,
   "id": "foster-learning",
   "metadata": {},
   "outputs": [],
   "source": [
    "import pandas as pd\n",
    "import numpy as np\n",
    "from pprint import pprint\n",
    "import os"
   ]
  },
  {
   "cell_type": "markdown",
   "id": "floppy-ending",
   "metadata": {},
   "source": [
    "读取数据"
   ]
  },
  {
   "cell_type": "code",
   "execution_count": 2,
   "id": "universal-evolution",
   "metadata": {},
   "outputs": [],
   "source": [
    "#数据量过大，随机抽取10%数据进行分析\n",
    "def list_dir_files(root_dir, ext=None):\n",
    "    \"\"\"\n",
    "    列出文件夹中的文件, 深度遍历\n",
    "    :param root_dir: 根目录\n",
    "    :param ext: 后缀名\n",
    "    :return: [文件路径列表, 文件名称列表]\n",
    "    \"\"\"\n",
    "    names_list = []\n",
    "    paths_list = []\n",
    "    for parent, _, fileNames in os.walk(root_dir):\n",
    "        for name in fileNames:\n",
    "            if name.startswith('.'):  \n",
    "                continue\n",
    "            if ext:  \n",
    "                if name.endswith(tuple(ext)):\n",
    "                    names_list.append(name)\n",
    "                    paths_list.append(os.path.join(parent, name))\n",
    "            else:\n",
    "                names_list.append(name)\n",
    "                paths_list.append(os.path.join(parent, name))\n",
    "    #paths_list, names_list = sort_two_list(paths_list, names_list)\n",
    "    #return paths_list, names_list\n",
    "    return paths_list,names_list\n",
    "\n",
    "#1.读取数据\n",
    "\n",
    "Raw_data_df = pd.DataFrame(columns = ['用户ID', '商品ID','商品类目ID','行为类型','时间戳'])\n",
    "\n",
    "for path in list_dir_files(r'D:\\github\\数据集\\淘宝用户行为数据分析',\"csv\")[0]:\n",
    "    try:\n",
    "        df = pd.read_csv(path, names=['用户ID', '商品ID','商品类目ID','行为类型','时间戳'])\n",
    "        #df = df.loc[(df['时间戳'] > 1511539200 ) & (df['时间戳'] <= 1512316799)]       \n",
    "        df = df.sample(frac=0.1, replace=True, random_state=1)\n",
    "        Raw_data_df = Raw_data_df.append(df)\n",
    "    except :\n",
    "        print(\"load file error\")\n"
   ]
  },
  {
   "cell_type": "markdown",
   "id": "western-architect",
   "metadata": {},
   "source": [
    "描述性分析"
   ]
  },
  {
   "cell_type": "code",
   "execution_count": 3,
   "id": "partial-boring",
   "metadata": {},
   "outputs": [
    {
     "name": "stdout",
     "output_type": "stream",
     "text": [
      "<class 'pandas.core.frame.DataFrame'>\n",
      "Int64Index: 10015081 entries, 4322341 to 5002629\n",
      "Data columns (total 5 columns):\n",
      " #   Column  Dtype \n",
      "---  ------  ----- \n",
      " 0   用户ID    object\n",
      " 1   商品ID    object\n",
      " 2   商品类目ID  object\n",
      " 3   行为类型    object\n",
      " 4   时间戳     object\n",
      "dtypes: object(5)\n",
      "memory usage: 458.5+ MB\n",
      "None\n",
      "用户ID      0\n",
      "商品ID      0\n",
      "商品类目ID    0\n",
      "行为类型      0\n",
      "时间戳       0\n",
      "dtype: int64\n"
     ]
    }
   ],
   "source": [
    "#查看数据基本信息\n",
    "print(Raw_data_df.info())\n",
    "print(Raw_data_df.isnull().sum())"
   ]
  },
  {
   "cell_type": "code",
   "execution_count": 4,
   "id": "valid-geology",
   "metadata": {
    "scrolled": true
   },
   "outputs": [
    {
     "data": {
      "text/html": [
       "<div>\n",
       "<style scoped>\n",
       "    .dataframe tbody tr th:only-of-type {\n",
       "        vertical-align: middle;\n",
       "    }\n",
       "\n",
       "    .dataframe tbody tr th {\n",
       "        vertical-align: top;\n",
       "    }\n",
       "\n",
       "    .dataframe thead th {\n",
       "        text-align: right;\n",
       "    }\n",
       "</style>\n",
       "<table border=\"1\" class=\"dataframe\">\n",
       "  <thead>\n",
       "    <tr style=\"text-align: right;\">\n",
       "      <th></th>\n",
       "      <th>用户ID</th>\n",
       "      <th>商品ID</th>\n",
       "      <th>商品类目ID</th>\n",
       "      <th>行为类型</th>\n",
       "      <th>时间戳</th>\n",
       "    </tr>\n",
       "  </thead>\n",
       "  <tbody>\n",
       "    <tr>\n",
       "      <th>4322341</th>\n",
       "      <td>278465</td>\n",
       "      <td>1449655</td>\n",
       "      <td>3299155</td>\n",
       "      <td>pv</td>\n",
       "      <td>1512045603</td>\n",
       "    </tr>\n",
       "    <tr>\n",
       "      <th>4686059</th>\n",
       "      <td>29532</td>\n",
       "      <td>1669735</td>\n",
       "      <td>3138705</td>\n",
       "      <td>pv</td>\n",
       "      <td>1512170704</td>\n",
       "    </tr>\n",
       "    <tr>\n",
       "      <th>3937352</th>\n",
       "      <td>260458</td>\n",
       "      <td>1832285</td>\n",
       "      <td>4756105</td>\n",
       "      <td>pv</td>\n",
       "      <td>1512258051</td>\n",
       "    </tr>\n",
       "    <tr>\n",
       "      <th>491263</th>\n",
       "      <td>105887</td>\n",
       "      <td>742386</td>\n",
       "      <td>2495340</td>\n",
       "      <td>pv</td>\n",
       "      <td>1512198013</td>\n",
       "    </tr>\n",
       "    <tr>\n",
       "      <th>5030793</th>\n",
       "      <td>311157</td>\n",
       "      <td>3902816</td>\n",
       "      <td>154040</td>\n",
       "      <td>pv</td>\n",
       "      <td>1511838526</td>\n",
       "    </tr>\n",
       "    <tr>\n",
       "      <th>...</th>\n",
       "      <td>...</td>\n",
       "      <td>...</td>\n",
       "      <td>...</td>\n",
       "      <td>...</td>\n",
       "      <td>...</td>\n",
       "    </tr>\n",
       "    <tr>\n",
       "      <th>2774731</th>\n",
       "      <td>575156</td>\n",
       "      <td>1798767</td>\n",
       "      <td>3645362</td>\n",
       "      <td>cart</td>\n",
       "      <td>1511860622</td>\n",
       "    </tr>\n",
       "    <tr>\n",
       "      <th>3356573</th>\n",
       "      <td>602476</td>\n",
       "      <td>1965512</td>\n",
       "      <td>344833</td>\n",
       "      <td>pv</td>\n",
       "      <td>1512047772</td>\n",
       "    </tr>\n",
       "    <tr>\n",
       "      <th>296275</th>\n",
       "      <td>462119</td>\n",
       "      <td>427668</td>\n",
       "      <td>4152994</td>\n",
       "      <td>pv</td>\n",
       "      <td>1511595672</td>\n",
       "    </tr>\n",
       "    <tr>\n",
       "      <th>2012032</th>\n",
       "      <td>540831</td>\n",
       "      <td>1324730</td>\n",
       "      <td>4181361</td>\n",
       "      <td>pv</td>\n",
       "      <td>1512274797</td>\n",
       "    </tr>\n",
       "    <tr>\n",
       "      <th>5411620</th>\n",
       "      <td>697081</td>\n",
       "      <td>132555</td>\n",
       "      <td>2815931</td>\n",
       "      <td>pv</td>\n",
       "      <td>1512309813</td>\n",
       "    </tr>\n",
       "  </tbody>\n",
       "</table>\n",
       "<p>9530904 rows × 5 columns</p>\n",
       "</div>"
      ],
      "text/plain": [
       "           用户ID     商品ID   商品类目ID  行为类型         时间戳\n",
       "4322341  278465  1449655  3299155    pv  1512045603\n",
       "4686059   29532  1669735  3138705    pv  1512170704\n",
       "3937352  260458  1832285  4756105    pv  1512258051\n",
       "491263   105887   742386  2495340    pv  1512198013\n",
       "5030793  311157  3902816   154040    pv  1511838526\n",
       "...         ...      ...      ...   ...         ...\n",
       "2774731  575156  1798767  3645362  cart  1511860622\n",
       "3356573  602476  1965512   344833    pv  1512047772\n",
       "296275   462119   427668  4152994    pv  1511595672\n",
       "2012032  540831  1324730  4181361    pv  1512274797\n",
       "5411620  697081   132555  2815931    pv  1512309813\n",
       "\n",
       "[9530904 rows x 5 columns]"
      ]
     },
     "execution_count": 4,
     "metadata": {},
     "output_type": "execute_result"
    }
   ],
   "source": [
    "#删除时间戳重复的值\n",
    "Raw_data_df.drop_duplicates()"
   ]
  },
  {
   "cell_type": "code",
   "execution_count": 5,
   "id": "annoying-wound",
   "metadata": {},
   "outputs": [],
   "source": [
    "#时间戳转化为时间,并只保留日期，方便之后的分析\n",
    "#Raw_data_df['time'] = pd.to_datetime(Raw_data_df['时间戳'], unit='s').dt.tz_localize('UTC').dt.tz_convert('Asia/Shanghai')\n",
    "Raw_data_df['时间'] = pd.to_datetime(Raw_data_df['时间戳'], unit='s').dt.tz_localize('UTC').dt.tz_convert('Asia/Shanghai').dt.date.astype(str)\n",
    "Raw_data_df['时段'] = pd.to_datetime(Raw_data_df['时间戳'], unit='s').dt.tz_localize('UTC').dt.tz_convert('Asia/Shanghai').dt.hour.astype(int)"
   ]
  },
  {
   "cell_type": "code",
   "execution_count": 6,
   "id": "desirable-functionality",
   "metadata": {},
   "outputs": [
    {
     "name": "stdout",
     "output_type": "stream",
     "text": [
      "           用户ID     商品ID   商品类目ID  行为类型         时间戳          时间  时段\n",
      "4322341  278465  1449655  3299155    pv  1512045603  2017-11-30  20\n",
      "4686059   29532  1669735  3138705    pv  1512170704  2017-12-02   7\n",
      "3937352  260458  1832285  4756105    pv  1512258051  2017-12-03   7\n",
      "491263   105887   742386  2495340    pv  1512198013  2017-12-02  15\n",
      "5030793  311157  3902816   154040    pv  1511838526  2017-11-28  11\n",
      "4267653  275899  1318065   200278  cart  1512117539  2017-12-01  16\n",
      "1166159  136042   667983  2355072    pv  1511706458  2017-11-26  22\n",
      "2326672  188446  4258806  4558987    pv  1512029527  2017-11-30  16\n",
      "413825   102632   412442  4756105    pv  1511775086  2017-11-27  17\n",
      "3063756  221054  1635613  4152994    pv  1511784297  2017-11-27  20\n",
      "5119559  315123  1506122  2920476    pv  1511878227  2017-11-28  22\n",
      "1215878  138378  1254885   341057    pv  1512040319  2017-11-30  19\n",
      "2610452  200848  1145339  2920476    pv  1511941349  2017-11-29  15\n",
      "5264638  321907  1743767  3002561    pv  1512052312  2017-11-30  22\n",
      "3322213  232704  3812354  5003455   buy  1512060664  2017-12-01   0\n",
      "4770260  299132  1379885  2355072    pv  1511754059  2017-11-27  11\n",
      "5700491  341094  2722139  4801426    pv  1511674078  2017-11-26  13\n",
      "401660    10199  1892810  2181935    pv  1512199357  2017-12-02  15\n",
      "5000682  309848   291701  2355072    pv  1511795195  2017-11-27  23\n",
      "4559516  289231  3533600  3673049    pv  1512136214  2017-12-01  21\n"
     ]
    }
   ],
   "source": [
    "#预览数据\n",
    "pprint(Raw_data_df.head(20))"
   ]
  },
  {
   "cell_type": "code",
   "execution_count": 7,
   "id": "individual-video",
   "metadata": {},
   "outputs": [
    {
     "name": "stdout",
     "output_type": "stream",
     "text": [
      "用户ID      0\n",
      "商品ID      0\n",
      "商品类目ID    0\n",
      "行为类型      0\n",
      "时间戳       0\n",
      "时间        0\n",
      "时段        0\n",
      "dtype: int64\n"
     ]
    }
   ],
   "source": [
    "#查看是否有缺失值\n",
    "print(Raw_data_df.isnull().sum())"
   ]
  },
  {
   "cell_type": "markdown",
   "id": "buried-disaster",
   "metadata": {},
   "source": [
    "数据没有缺失，很完整。"
   ]
  },
  {
   "cell_type": "code",
   "execution_count": 8,
   "id": "traditional-puzzle",
   "metadata": {},
   "outputs": [
    {
     "name": "stdout",
     "output_type": "stream",
     "text": [
      "['pv' 'cart' 'buy' 'fav']\n"
     ]
    }
   ],
   "source": [
    "#查看用户行为是否符合规定：即只有PV，buy，cart，fav 四类\n",
    "print(Raw_data_df['行为类型'].unique())"
   ]
  },
  {
   "cell_type": "markdown",
   "id": "approximate-hungary",
   "metadata": {},
   "source": [
    "用户行为符合规定，即只有规定的4个指标。"
   ]
  },
  {
   "cell_type": "code",
   "execution_count": 9,
   "id": "loved-adult",
   "metadata": {},
   "outputs": [
    {
     "name": "stdout",
     "output_type": "stream",
     "text": [
      "1905-07-13 2036-10-22\n"
     ]
    }
   ],
   "source": [
    "#查看原始数据时间跨度\n",
    "print(Raw_data_df['时间'].min(),Raw_data_df['时间'].max())"
   ]
  },
  {
   "cell_type": "markdown",
   "id": "physical-breathing",
   "metadata": {},
   "source": [
    "时间跨度从1919-09-19 到 2037-04-09，有超出分析时间范围的数据，要清洗掉"
   ]
  },
  {
   "cell_type": "markdown",
   "id": "matched-gazette",
   "metadata": {},
   "source": [
    "### 2.2数据清洗"
   ]
  },
  {
   "cell_type": "markdown",
   "id": "extraordinary-scope",
   "metadata": {},
   "source": [
    "我们要分析的范围是2017-11-25到2017-12-03,接下来清洗掉不需要分析的数据。"
   ]
  },
  {
   "cell_type": "code",
   "execution_count": 10,
   "id": "outstanding-hygiene",
   "metadata": {},
   "outputs": [
    {
     "name": "stdout",
     "output_type": "stream",
     "text": [
      "           用户ID     商品ID   商品类目ID  行为类型         时间戳          时间  时段\n",
      "4322341  278465  1449655  3299155    pv  1512045603  2017-11-30  20\n",
      "4686059   29532  1669735  3138705    pv  1512170704  2017-12-02   7\n",
      "3937352  260458  1832285  4756105    pv  1512258051  2017-12-03   7\n",
      "491263   105887   742386  2495340    pv  1512198013  2017-12-02  15\n",
      "5030793  311157  3902816   154040    pv  1511838526  2017-11-28  11\n",
      "...         ...      ...      ...   ...         ...         ...  ..\n",
      "2774731  575156  1798767  3645362  cart  1511860622  2017-11-28  17\n",
      "3356573  602476  1965512   344833    pv  1512047772  2017-11-30  21\n",
      "2012032  540831  1324730  4181361    pv  1512274797  2017-12-03  12\n",
      "5411620  697081   132555  2815931    pv  1512309813  2017-12-03  22\n",
      "5002629  678440  1591185  4882154    pv  1511855396  2017-11-28  15\n",
      "\n",
      "[8967500 rows x 7 columns]\n"
     ]
    }
   ],
   "source": [
    "Raw_data_df=Raw_data_df.loc[(Raw_data_df['时间'] > '2017-11-25') & (Raw_data_df['时间'] <= '2017-12-03')]\n",
    "print(Raw_data_df)"
   ]
  },
  {
   "cell_type": "markdown",
   "id": "macro-hawaiian",
   "metadata": {},
   "source": [
    "## 3.数据分析\n",
    "### 3.1数据准备"
   ]
  },
  {
   "cell_type": "code",
   "execution_count": 11,
   "id": "medieval-diabetes",
   "metadata": {
    "scrolled": true
   },
   "outputs": [
    {
     "name": "stdout",
     "output_type": "stream",
     "text": [
      "行为类型\n",
      "buy     145240\n",
      "cart    293678\n",
      "fav     139287\n",
      "pv      925642\n",
      "Name: 用户ID, dtype: int64\n"
     ]
    }
   ],
   "source": [
    "#.用户行为概览\n",
    "user_behav_df = Raw_data_df.groupby(['行为类型'])[\"用户ID\"].nunique()\n",
    "print(user_behav_df)"
   ]
  },
  {
   "cell_type": "code",
   "execution_count": 12,
   "id": "framed-signature",
   "metadata": {},
   "outputs": [
    {
     "name": "stdout",
     "output_type": "stream",
     "text": [
      "pv      8030436\n",
      "cart     497207\n",
      "fav      258172\n",
      "buy      181685\n",
      "Name: 行为类型, dtype: int64\n"
     ]
    }
   ],
   "source": [
    "#行为类型计数\n",
    "count = Raw_data_df['行为类型'].value_counts()\n",
    "print(count)"
   ]
  },
  {
   "cell_type": "code",
   "execution_count": 13,
   "id": "successful-inspection",
   "metadata": {},
   "outputs": [
    {
     "name": "stdout",
     "output_type": "stream",
     "text": [
      "        用户ID     行为类型\n",
      "pv    925642  8030436\n",
      "cart  293678   497207\n",
      "fav   139287   258172\n",
      "buy   145240   181685\n"
     ]
    }
   ],
   "source": [
    "#组合表\n",
    "fin_df = pd.merge(user_behav_df,count,how= 'inner',left_index=True,right_index=True).sort_values(\"行为类型\",inplace=False,ascending=False)\n",
    "print(fin_df)"
   ]
  },
  {
   "cell_type": "code",
   "execution_count": null,
   "id": "hollywood-monkey",
   "metadata": {},
   "outputs": [],
   "source": [
    "date_use_df = Raw_data_df.groupby(['时间'])[\"用户ID\"].nunique().to_frame()\n",
    "date_click_df = Raw_data_df.groupby(['时间']).size().to_frame()\n",
    "date_use_df.columns = [\"用户数\"]\n",
    "date_click_df.columns = [\"点击数\"]\n",
    "print(date_use_df,date_click_df)"
   ]
  },
  {
   "cell_type": "code",
   "execution_count": null,
   "id": "collective-illustration",
   "metadata": {},
   "outputs": [],
   "source": [
    "# 分时段点击量和用户访问数\n",
    "hour_df = Raw_data_df.groupby(['时段'])[\"用户ID\"].nunique().to_frame().sort_index()\n",
    "print(hour_df)"
   ]
  },
  {
   "cell_type": "code",
   "execution_count": null,
   "id": "interracial-document",
   "metadata": {},
   "outputs": [],
   "source": [
    "#选取点击量前十的商品类别\n",
    "commodity_df = Raw_data_df.groupby(['商品类目ID'])[\"用户ID\"].nunique().to_frame().sort_values(by = [\"用户ID\"],ascending = False).head(10)\n",
    "commodity_df = commodity_df.reset_index()\n",
    "print(commodity_df)\n",
    "commodity_buy_df = Raw_data_df.loc[Raw_data_df[\"行为类型\"] == \"buy\"].groupby(['商品类目ID'])[\"用户ID\"].nunique().to_frame().sort_values(by = [\"用户ID\"],ascending = False).head(10)\n",
    "commodity_buy_df = commodity_buy_df.reset_index()\n",
    "print(commodity_buy_df)"
   ]
  },
  {
   "cell_type": "markdown",
   "id": "ethical-processing",
   "metadata": {},
   "source": [
    "### 3.2可视化图表\n",
    "#### 3.2.1 用户行为概览\n"
   ]
  },
  {
   "cell_type": "code",
   "execution_count": null,
   "id": "comic-dover",
   "metadata": {},
   "outputs": [],
   "source": [
    "import plotly.express as px\n",
    "import plotly.graph_objects as go\n",
    "from plotly.subplots import make_subplots"
   ]
  },
  {
   "cell_type": "code",
   "execution_count": null,
   "id": "unavailable-committee",
   "metadata": {},
   "outputs": [],
   "source": [
    "fig = make_subplots(rows=1, cols=2, specs=[[{}, {'type':'domain'}]])\n",
    "trace0 = go.Bar(\n",
    "    x = fin_df.index,\n",
    "    y = fin_df[\"行为类型\"],\n",
    "    orientation = 'v' , \n",
    "    name = \"柱图\",\n",
    "    texttemplate='%{y}', \n",
    "    textposition=\"outside\",\n",
    "    hovertemplate = \"%{x}: <br>共:%{y}次\",\n",
    "    )\n",
    "\n",
    "trace1 = go.Pie(\n",
    "    labels = fin_df.index,\n",
    "    values = fin_df[\"行为类型\"],\n",
    "    name = \"饼图\",\n",
    "    textinfo='label+percent',\n",
    "    insidetextorientation='horizontal',\n",
    "    hovertemplate = \"%{label}共:%{value}次，占比%{percent}\",\n",
    "    hole = .4,\n",
    "    #pull =[0.2, 0,0, 0]\n",
    "    )\n",
    "layout = dict(\n",
    "    title='用户行为分布',\n",
    "    legend={\"x\":1.05,\"y\":1.2,\"font\":dict(size=15),\"bordercolor\" : \"grey\",\"borderwidth\": 1},  #设置图例标志的大小和位置\n",
    "    xaxis = {\"type\":\"category\",\"title\":\"数量\",\"showline\":True},\n",
    "    yaxis = {\"title\":\"行为类型\",\"showline\":True},\n",
    "    )\n",
    "fig.append_trace(trace0,1,1)\n",
    "fig.append_trace(trace1,1,2)\n",
    "fig['layout'].update(layout)\n",
    "fig.show()"
   ]
  },
  {
   "cell_type": "markdown",
   "id": "comic-anderson",
   "metadata": {},
   "source": [
    "#### 3.2.2.用户活跃情况\n",
    "观察用户9天内的活跃变化趋势，以及每天时间段内活跃变化趋势。"
   ]
  },
  {
   "cell_type": "code",
   "execution_count": null,
   "id": "exact-navigator",
   "metadata": {},
   "outputs": [],
   "source": [
    "fig = go.Figure()\n",
    "trace = go.Bar(\n",
    "                    x = date_use_df.index,\n",
    "                    y = date_use_df[\"用户数\"],\n",
    "                    orientation = 'v' , \n",
    "                    texttemplate = '%{y}', \n",
    "                    textposition = \"outside\",\n",
    "                    name = '用户访问数',\n",
    "                    hovertemplate = \"%{x}: <br>共:%{y}次\",\n",
    "                    )\n",
    "trace1 = go.Scatter(x = date_use_df.index, y = date_click_df[\"点击数\"],\n",
    "                    mode = 'lines+markers',\n",
    "                    name = '点击量',\n",
    "                    xaxis='x',\n",
    "                    yaxis='y2',\n",
    "                        )\n",
    "\n",
    "data = [trace, trace1]\n",
    "layout = go.Layout(\n",
    "    yaxis2=dict(anchor='x', overlaying='y', side='right')#设置坐标轴的格式，一般次坐标轴在右侧\n",
    ")\n",
    "fig = go.Figure(data=data, layout=layout)\n",
    "fig.show()"
   ]
  },
  {
   "cell_type": "markdown",
   "id": "worse-simon",
   "metadata": {},
   "source": [
    "11月25日、26日，以及12月2日跟3日，这4天是周末，可以看到不论是从点击次数还是人数上，都要高于中间的5天。而12月初的周末PV量明显增加，可以考虑是否有12月初营销活动的影响。\n",
    "\n",
    "\n",
    "#### 3.2.3 分时段活跃用户数*"
   ]
  },
  {
   "cell_type": "code",
   "execution_count": null,
   "id": "collective-hearing",
   "metadata": {},
   "outputs": [],
   "source": [
    "fig = go.Figure()\n",
    "trace = go.Bar(\n",
    "                    x = hour_df.index,\n",
    "                    y = hour_df[\"用户ID\"],\n",
    "                    orientation = 'v' , \n",
    "                    texttemplate = '%{y}', \n",
    "                    textposition = \"outside\",\n",
    "                    name = '用户数',\n",
    "                    hovertemplate = \"%{x}: <br>共:%{y}次\",\n",
    "                    )\n",
    "trace1 = go.Scatter(x = hour_df.index, y = hour_df[\"用户ID\"],\n",
    "                    mode = 'lines+markers',\n",
    "                    name = '用户数',\n",
    "                    xaxis='x',\n",
    "                    yaxis='y2',\n",
    "                        )\n",
    "\n",
    "data = [trace, trace1]\n",
    "layout = go.Layout(\n",
    "    yaxis2=dict(anchor='x', overlaying='y', side='right')#设置坐标轴的格式，一般次坐标轴在右侧\n",
    ")\n",
    "fig = go.Figure(data=data, layout=layout)\n",
    "fig.show()"
   ]
  },
  {
   "cell_type": "markdown",
   "id": "running-digest",
   "metadata": {},
   "source": [
    "可以看到销量高峰是中午10点-15点和晚上20点-22点，最高峰在晚上9点。而低谷出现在夜里1点-6点。这也符合我们的认知，中午休息和睡前是刷淘宝最多的时候。可以考虑在高峰时段，通过广告投放、微信QQ支付宝推广等方式，吸引更多客户。\n",
    "\n"
   ]
  },
  {
   "cell_type": "code",
   "execution_count": null,
   "id": "magnetic-murray",
   "metadata": {},
   "outputs": [],
   "source": [
    "fig = make_subplots(rows=1, cols=2, specs=[[{}, {'type':'domain'}]])\n",
    "trace0 = go.Bar(\n",
    "    x = commodity_df[\"商品类目ID\"],\n",
    "    y = commodity_df[\"用户ID\"],\n",
    "    orientation = 'v' , \n",
    "    name = \"柱图\",\n",
    "    texttemplate='%{y}', \n",
    "    textposition=\"outside\",\n",
    "    hovertemplate = \"%{x}: <br>共:%{y}次\",\n",
    "    )\n",
    "\n",
    "trace1 = go.Pie(\n",
    "    labels = commodity_df[\"商品类目ID\"],\n",
    "    values = commodity_df[\"用户ID\"],\n",
    "    name = \"饼图\",\n",
    "    textinfo='label+percent',\n",
    "    insidetextorientation='horizontal',\n",
    "    hovertemplate = \"%{label}共:%{value}次，占比%{percent}\",\n",
    "    hole = .4,\n",
    "    #pull =[0.2, 0,0, 0]\n",
    "    )\n",
    "layout = dict(\n",
    "    title='热搜top10',\n",
    "    legend={\"x\":1.05,\"y\":1.2,\"font\":dict(size=15),\"bordercolor\" : \"grey\",\"borderwidth\": 1},  #设置图例标志的大小和位置\n",
    "    xaxis = {\"type\":\"category\",\"title\":\"商品类别\",\"showline\":True},\n",
    "    yaxis = {\"title\":\"点击量\",\"showline\":True},\n",
    "    )\n",
    "fig.append_trace(trace0,1,1)\n",
    "fig.append_trace(trace1,1,2)\n",
    "fig['layout'].update(layout)\n",
    "fig.show()"
   ]
  },
  {
   "cell_type": "markdown",
   "id": "minute-monroe",
   "metadata": {},
   "source": [
    "4756105类商品搜索量最大。\n",
    "#### 3.2.4热搜与热销商品类TOP10"
   ]
  },
  {
   "cell_type": "code",
   "execution_count": null,
   "id": "liberal-delivery",
   "metadata": {},
   "outputs": [],
   "source": [
    "fig = make_subplots(rows=1, cols=2, specs=[[{}, {'type':'domain'}]])\n",
    "trace0 = go.Bar(\n",
    "    x = commodity_buy_df[\"商品类目ID\"],\n",
    "    y = commodity_buy_df[\"用户ID\"],\n",
    "    orientation = 'v' , \n",
    "    name = \"柱图\",\n",
    "    texttemplate='%{y}', \n",
    "    textposition=\"outside\",\n",
    "    hovertemplate = \"%{x}: <br>共:%{y}次\",\n",
    "    )\n",
    "\n",
    "trace1 = go.Pie(\n",
    "    labels = commodity_buy_df[\"商品类目ID\"],\n",
    "    values = commodity_buy_df[\"用户ID\"],\n",
    "    name = \"饼图\",\n",
    "    textinfo='label+percent',\n",
    "    insidetextorientation='horizontal',\n",
    "    hovertemplate = \"商品%{label}共购买:%{value}次，占比%{percent}\",\n",
    "    hole = .4,\n",
    "    #pull =[0.2, 0,0, 0]\n",
    "    )\n",
    "layout = dict(\n",
    "    title='热销top10',\n",
    "    legend={\"x\":1.05,\"y\":1.2,\"font\":dict(size=15),\"bordercolor\" : \"grey\",\"borderwidth\": 1},  #设置图例标志的大小和位置\n",
    "    xaxis = {\"type\":\"category\",\"title\":\"商品类别\",\"showline\":True},\n",
    "    yaxis = {\"title\":\"销售量\",\"showline\":True},\n",
    "    )\n",
    "fig.append_trace(trace0,1,1)\n",
    "fig.append_trace(trace1,1,2)\n",
    "fig['layout'].update(layout)\n",
    "fig.show()"
   ]
  },
  {
   "cell_type": "markdown",
   "id": "laden-broad",
   "metadata": {},
   "source": [
    "1464116类商品购买量最多。"
   ]
  },
  {
   "cell_type": "markdown",
   "id": "expanded-lemon",
   "metadata": {},
   "source": [
    "#### 3.2.5用户点击行为转化\n",
    "淘宝购买流程的主路径为首页——活动页——商品详情页——加入购物车——支付完成。而其中三个关键转化为“UV-点击”、“点击-加入购物车”、“购物车-支付成功”。由于数据集中只记载了用户点击、加入购物车等行为，我们无法统计“UV-点击”这一步的转化率，所以重点关注后两者的转化率。\n",
    "![转化图](转化图.jpg)"
   ]
  },
  {
   "cell_type": "code",
   "execution_count": null,
   "id": "permanent-sunday",
   "metadata": {},
   "outputs": [],
   "source": [
    "fin_new_df = fin_df.copy().reset_index()\n",
    "fin_new_df.columns = [\"行为类型\",\"用户数\",\"点击数\"]\n",
    "print(fin_new_df)"
   ]
  },
  {
   "cell_type": "code",
   "execution_count": null,
   "id": "alternate-offering",
   "metadata": {},
   "outputs": [],
   "source": [
    "#主路径转化\n",
    "fig = go.Figure(go.Funnel(\n",
    "    y = fin_new_df['行为类型'] ,\n",
    "    x = fin_new_df['点击数'],\n",
    "    textposition = \"outside\",\n",
    "    textinfo = \"value+percent initial\",\n",
    "    opacity = 0.65, marker = {\"color\": [\"deepskyblue\", \"lightsalmon\", \"tan\", \"teal\", \"silver\"],\n",
    "    \"line\": {\"width\": [4, 2, 2, 3, 1, 1], \"color\": [\"wheat\", \"wheat\", \"blue\", \"wheat\", \"wheat\"]}},\n",
    "    connector = {\"line\": {\"color\": \"royalblue\", \"dash\": \"dot\", \"width\": 3}})\n",
    "    )\n",
    "\n",
    "layout = dict(\n",
    "            autosize=False,\n",
    "            width=750,\n",
    "            height=500,\n",
    "    )\n",
    "fig['layout'].update(layout)\n",
    "\n",
    "fig.show()"
   ]
  },
  {
   "cell_type": "markdown",
   "id": "combined-green",
   "metadata": {},
   "source": [
    "可以看到在“点击-加入购物车”这一环节流失严重，转化率仅为6.2%。但透过数据仔细思考一下，一般买东西总是要货比三家的，即使每个浏览淘宝的人都最终完成了购买，照这样计算转化率也不会是100%。假如平均每人购买前浏览5个商品详情页，那么转化率最高也只有20%。而浏览更多的商品详情页是商家希望看到的，这样可以提高用户的平均浏览时间，也能看到更多商品和广告。故该转化率模型还需要继续优化"
   ]
  },
  {
   "cell_type": "markdown",
   "id": "renewable-schedule",
   "metadata": {},
   "source": [
    "**用户流失的可能原因**\n",
    "![转化图](转化率分析.jpg)\n"
   ]
  },
  {
   "cell_type": "code",
   "execution_count": null,
   "id": "sustainable-illustration",
   "metadata": {},
   "outputs": [],
   "source": [
    "l_df = Raw_data_df.reset_index()[['用户ID','行为类型']]\n",
    "l_df = l_df.groupby(['用户ID','行为类型']).size().unstack().fillna(0).astype(int)[['pv','cart']]\n",
    "print(l_df)"
   ]
  },
  {
   "cell_type": "code",
   "execution_count": null,
   "id": "metric-mentor",
   "metadata": {},
   "outputs": [],
   "source": [
    "import plotly.express as px\n",
    "df = px.data.iris()\n",
    "fig = px.scatter(l_df, x=\"pv\", y=\"cart\")\n",
    "fig.show()"
   ]
  },
  {
   "cell_type": "markdown",
   "id": "promising-whole",
   "metadata": {},
   "source": [
    "**用户需求匹配分析**\n",
    "\n",
    "想要了解用户需求，我们需要首先对用户进行分类从而更精准地匹配不同人群的需求，对于“点击-加入购物车”这一步骤，我们试图总结典型用户的不同行为特点。\n",
    "\n",
    "1.第一类是优质客户，他们的特点应该是PV很高同时加入购物车次数也很多的用户，这部分用户数量不多，但却是淘宝的最优质用户，我们要做的就是继续保持他们旺盛的购物欲。\n",
    "\n",
    "2.第二类是购物目标明确地客户，他们PV不高但加入购物车次数很多的用户。这部分用户逛淘宝时目标明确,对于这类用户我们应该提供精准的推荐吸引他们继续浏览商品，从而提高他们在淘宝的浏览时间和PV，进一步提升他们的成交率和购物篮系数。\n",
    "\n",
    "3.第三类客户是不活跃用户，较少浏览商品也很少加入购物车，甚至很多人在这9天里从未将商品加入购物车。对于这部分用户，我们需要用搞活动、做宣传等方式吸引他们更多地参与到线上购物中来，提升他们的网购积极性。\n",
    "\n",
    "4.第四类用户是很少下单的用户。这部分人数量不多，但需要我们重点关注。是什么原因导致他们频繁浏览却不加入购物车呢，很可能是因为没有找到自己满意的商品，他们积极地寻找想买的商品却发现没有商品满足自己的需求。对于这部分用户我们需要从商品的角度考虑要如何满足他们的需求，是价格带设置不合理还是商品种类不够丰富？或者推荐机制出了问题导致没有把最合适的商品推到他们面前？"
   ]
  },
  {
   "cell_type": "markdown",
   "id": "cellular-roulette",
   "metadata": {},
   "source": [
    "## 总结\n",
    "\n",
    "1.由于本次分析，是从源数据当中随机抽取了约10%的数据，所以结果仅能作为参考，后续可以考虑重复此筛选过程，比如随机抽取10次，观察结果偏差存在偏差；\n",
    "\n",
    "2.用户每晚21点左右，活跃程度达到峰值，可考虑在此时段，定点推广，吸引更多客户消费；\n",
    "\n",
    "3.用户点击最多的商品，与购买数量并不呈现明显相关性，是否可以考虑网站的推荐算法，可以继续优化，加之本数据没有用户性别、收入、职业、年龄等关键因素，因此暂不能对用户画像进行分析比较；\n",
    "\n",
    "4.用户的点击到购买，转化率非常低，而用户加购物车及收藏后转化率明显上升不少，因此后续的推广活动，可以从吸引客户种草方面去考虑。\n",
    "\n",
    "5.从用户需求的角度对用户分组之后，发现有部分用户浏览量很大但下单数很少，这部分用户有强烈的购买需求但淘宝没有满足他们的需求，很可能是他们没有找到合适的商品或者淘宝未能展现商品的魅力成功吸引他们，可能的解决方法有对这部分用户使用更合理的推荐算法帮助他们找到心仪的商品，或者改用更具吸引力的商品介绍促使他们下单。"
   ]
  }
 ],
 "metadata": {
  "kernelspec": {
   "display_name": "Python 3",
   "language": "python",
   "name": "python3"
  },
  "language_info": {
   "codemirror_mode": {
    "name": "ipython",
    "version": 3
   },
   "file_extension": ".py",
   "mimetype": "text/x-python",
   "name": "python",
   "nbconvert_exporter": "python",
   "pygments_lexer": "ipython3",
   "version": "3.8.8"
  }
 },
 "nbformat": 4,
 "nbformat_minor": 5
}
