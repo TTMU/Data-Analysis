{
 "cells": [
  {
   "cell_type": "markdown",
   "metadata": {},
   "source": [
    "## 导入数据"
   ]
  },
  {
   "cell_type": "code",
   "execution_count": 1,
   "metadata": {},
   "outputs": [],
   "source": [
    "import numpy as np\n",
    "import pandas as pd"
   ]
  },
  {
   "cell_type": "code",
   "execution_count": 2,
   "metadata": {
    "scrolled": true
   },
   "outputs": [
    {
     "name": "stdout",
     "output_type": "stream",
     "text": [
      "           id date_account_created  timestamp_first_active date_first_booking  \\\n",
      "0  gxn3p5htnn           2010-06-28          20090319043255                NaN   \n",
      "1  820tgsjxq7           2011-05-25          20090523174809                NaN   \n",
      "2  4ft3gnwmtx           2010-09-28          20090609231247         2010-08-02   \n",
      "3  bjjt8pjhuk           2011-12-05          20091031060129         2012-09-08   \n",
      "4  87mebub9p4           2010-09-14          20091208061105         2010-02-18   \n",
      "\n",
      "      gender   age signup_method  signup_flow language affiliate_channel  \\\n",
      "0  -unknown-   NaN      facebook            0       en            direct   \n",
      "1       MALE  38.0      facebook            0       en               seo   \n",
      "2     FEMALE  56.0         basic            3       en            direct   \n",
      "3     FEMALE  42.0      facebook            0       en            direct   \n",
      "4  -unknown-  41.0         basic            0       en            direct   \n",
      "\n",
      "  affiliate_provider first_affiliate_tracked signup_app first_device_type  \\\n",
      "0             direct               untracked        Web       Mac Desktop   \n",
      "1             google               untracked        Web       Mac Desktop   \n",
      "2             direct               untracked        Web   Windows Desktop   \n",
      "3             direct               untracked        Web       Mac Desktop   \n",
      "4             direct               untracked        Web       Mac Desktop   \n",
      "\n",
      "  first_browser country_destination  \n",
      "0        Chrome                 NDF  \n",
      "1        Chrome                 NDF  \n",
      "2            IE                  US  \n",
      "3       Firefox               other  \n",
      "4        Chrome                  US  \n"
     ]
    }
   ],
   "source": [
    "#读取数据并把date_account_created转换为datetime类型\n",
    "basic_path = r\"D:\\github\\数据集\\Airbnb产品\"\n",
    "train_users_df = pd.read_csv(basic_path + r'\\train_users.csv',parse_dates=['date_account_created'])\n",
    "sessions_df = pd.read_csv(basic_path + r'\\sessions.csv')\n",
    "print(train_users_df.head())"
   ]
  },
  {
   "cell_type": "markdown",
   "metadata": {},
   "source": [
    "## 数据清洗\n",
    "### 数据描述性统计\n",
    "缺失值"
   ]
  },
  {
   "cell_type": "code",
   "execution_count": 3,
   "metadata": {},
   "outputs": [
    {
     "data": {
      "text/plain": [
       "id                              0\n",
       "date_account_created            0\n",
       "timestamp_first_active          0\n",
       "date_first_booking         124543\n",
       "gender                          0\n",
       "age                         87990\n",
       "signup_method                   0\n",
       "signup_flow                     0\n",
       "language                        0\n",
       "affiliate_channel               0\n",
       "affiliate_provider              0\n",
       "first_affiliate_tracked      6065\n",
       "signup_app                      0\n",
       "first_device_type               0\n",
       "first_browser                   0\n",
       "country_destination             0\n",
       "dtype: int64"
      ]
     },
     "execution_count": 3,
     "metadata": {},
     "output_type": "execute_result"
    }
   ],
   "source": [
    "train_users_df.isnull().sum()"
   ]
  },
  {
   "cell_type": "code",
   "execution_count": 4,
   "metadata": {},
   "outputs": [
    {
     "data": {
      "text/plain": [
       "user_id            34496\n",
       "action             79626\n",
       "action_type      1126204\n",
       "action_detail    1126204\n",
       "device_type            0\n",
       "secs_elapsed      136031\n",
       "dtype: int64"
      ]
     },
     "execution_count": 4,
     "metadata": {},
     "output_type": "execute_result"
    }
   ],
   "source": [
    "sessions_df.isnull().sum()"
   ]
  },
  {
   "cell_type": "code",
   "execution_count": 5,
   "metadata": {},
   "outputs": [
    {
     "data": {
      "text/html": [
       "<div>\n",
       "<style scoped>\n",
       "    .dataframe tbody tr th:only-of-type {\n",
       "        vertical-align: middle;\n",
       "    }\n",
       "\n",
       "    .dataframe tbody tr th {\n",
       "        vertical-align: top;\n",
       "    }\n",
       "\n",
       "    .dataframe thead th {\n",
       "        text-align: right;\n",
       "    }\n",
       "</style>\n",
       "<table border=\"1\" class=\"dataframe\">\n",
       "  <thead>\n",
       "    <tr style=\"text-align: right;\">\n",
       "      <th></th>\n",
       "      <th>timestamp_first_active</th>\n",
       "      <th>age</th>\n",
       "      <th>signup_flow</th>\n",
       "    </tr>\n",
       "  </thead>\n",
       "  <tbody>\n",
       "    <tr>\n",
       "      <th>count</th>\n",
       "      <td>2.134510e+05</td>\n",
       "      <td>125461.000000</td>\n",
       "      <td>213451.000000</td>\n",
       "    </tr>\n",
       "    <tr>\n",
       "      <th>mean</th>\n",
       "      <td>2.013085e+13</td>\n",
       "      <td>49.668335</td>\n",
       "      <td>3.267387</td>\n",
       "    </tr>\n",
       "    <tr>\n",
       "      <th>std</th>\n",
       "      <td>9.253717e+09</td>\n",
       "      <td>155.666612</td>\n",
       "      <td>7.637707</td>\n",
       "    </tr>\n",
       "    <tr>\n",
       "      <th>min</th>\n",
       "      <td>2.009032e+13</td>\n",
       "      <td>1.000000</td>\n",
       "      <td>0.000000</td>\n",
       "    </tr>\n",
       "    <tr>\n",
       "      <th>25%</th>\n",
       "      <td>2.012123e+13</td>\n",
       "      <td>28.000000</td>\n",
       "      <td>0.000000</td>\n",
       "    </tr>\n",
       "    <tr>\n",
       "      <th>50%</th>\n",
       "      <td>2.013091e+13</td>\n",
       "      <td>34.000000</td>\n",
       "      <td>0.000000</td>\n",
       "    </tr>\n",
       "    <tr>\n",
       "      <th>75%</th>\n",
       "      <td>2.014031e+13</td>\n",
       "      <td>43.000000</td>\n",
       "      <td>0.000000</td>\n",
       "    </tr>\n",
       "    <tr>\n",
       "      <th>max</th>\n",
       "      <td>2.014063e+13</td>\n",
       "      <td>2014.000000</td>\n",
       "      <td>25.000000</td>\n",
       "    </tr>\n",
       "  </tbody>\n",
       "</table>\n",
       "</div>"
      ],
      "text/plain": [
       "       timestamp_first_active            age    signup_flow\n",
       "count            2.134510e+05  125461.000000  213451.000000\n",
       "mean             2.013085e+13      49.668335       3.267387\n",
       "std              9.253717e+09     155.666612       7.637707\n",
       "min              2.009032e+13       1.000000       0.000000\n",
       "25%              2.012123e+13      28.000000       0.000000\n",
       "50%              2.013091e+13      34.000000       0.000000\n",
       "75%              2.014031e+13      43.000000       0.000000\n",
       "max              2.014063e+13    2014.000000      25.000000"
      ]
     },
     "execution_count": 5,
     "metadata": {},
     "output_type": "execute_result"
    }
   ],
   "source": [
    "train_users_df.describe()"
   ]
  },
  {
   "cell_type": "markdown",
   "metadata": {},
   "source": [
    "## 数据分析"
   ]
  },
  {
   "cell_type": "markdown",
   "metadata": {},
   "source": [
    "年龄最大值为2014，显然与实际不符，猜测把出生年当做年龄填入，年龄数据小于0大于100的数据修改为 -1,转换数据为int型，方便后续分类统计。"
   ]
  },
  {
   "cell_type": "code",
   "execution_count": 6,
   "metadata": {},
   "outputs": [
    {
     "name": "stdout",
     "output_type": "stream",
     "text": [
      "0         -1\n",
      "1         38\n",
      "2         56\n",
      "3         42\n",
      "4         41\n",
      "          ..\n",
      "213446    32\n",
      "213447    -1\n",
      "213448    32\n",
      "213449    -1\n",
      "213450    -1\n",
      "Name: age, Length: 213451, dtype: int32\n"
     ]
    }
   ],
   "source": [
    "train_users_df.loc[(pd.isnull(train_users_df['age']))|(train_users_df['age']>100),'age']= -1\n",
    "train_users_df['age'] = train_users_df['age'].astype('int')\n",
    "print(train_users_df['age'])"
   ]
  },
  {
   "cell_type": "code",
   "execution_count": 7,
   "metadata": {},
   "outputs": [],
   "source": [
    "#根据id去重，如果重复保留第一条数据\n",
    "train_users_df = train_users_df.drop_duplicates(subset=['id'],keep='first')"
   ]
  },
  {
   "cell_type": "markdown",
   "metadata": {},
   "source": [
    "用户画像分析\n"
   ]
  },
  {
   "cell_type": "markdown",
   "metadata": {},
   "source": [
    "1.性别比例判断\n",
    "表中 gender 存在三种分类：'male'，'female'及'unknown'，处理时将'unknown'\n",
    "\n",
    "这一种情况排除在外，得到相关数据量情况："
   ]
  },
  {
   "cell_type": "code",
   "execution_count": 8,
   "metadata": {},
   "outputs": [
    {
     "name": "stdout",
     "output_type": "stream",
     "text": [
      "gender\n",
      "FEMALE    63041\n",
      "MALE      54440\n",
      "dtype: int64\n"
     ]
    }
   ],
   "source": [
    "gender_df = train_users_df[(train_users_df['gender']=='FEMALE')|(train_users_df['gender']== 'MALE')].groupby(by = 'gender').size()\n",
    "print(gender_df)"
   ]
  },
  {
   "cell_type": "markdown",
   "metadata": {},
   "source": [
    "2.年龄分布统计"
   ]
  },
  {
   "cell_type": "code",
   "execution_count": 28,
   "metadata": {},
   "outputs": [],
   "source": [
    "def change_age(age):\n",
    "    if age >0 and age <=20:\n",
    "        return \"20岁以下\"\n",
    "    elif age >20 and age <=30:\n",
    "        return \"20到30岁\"\n",
    "    elif age >30 and age <=40:\n",
    "        return \"30到40岁\"\n",
    "    elif age >40 and age <=50:\n",
    "        return \"40到50岁\"\n",
    "    elif age >50 and age <=100:\n",
    "        return \"50岁以上\"\n",
    "    \n"
   ]
  },
  {
   "cell_type": "code",
   "execution_count": 29,
   "metadata": {},
   "outputs": [
    {
     "name": "stdout",
     "output_type": "stream",
     "text": [
      "age\n",
      "20到30岁    41633\n",
      "20岁以下      2469\n",
      "30到40岁    44212\n",
      "40到50岁    18831\n",
      "50岁以上     15971\n",
      "dtype: int64\n"
     ]
    }
   ],
   "source": [
    "age_df = train_users_df.copy()\n",
    "age_df['age'] = age_df[\"age\"].apply(lambda x:change_age(x))\n",
    "age_df = age_df.groupby(\"age\").size()\n",
    "print(age_df)"
   ]
  },
  {
   "cell_type": "markdown",
   "metadata": {},
   "source": [
    "3.使用语言分布统计"
   ]
  },
  {
   "cell_type": "code",
   "execution_count": 11,
   "metadata": {},
   "outputs": [
    {
     "name": "stdout",
     "output_type": "stream",
     "text": [
      "language\n",
      "en    206314\n",
      "zh      1632\n",
      "fr      1172\n",
      "es       915\n",
      "ko       747\n",
      "de       732\n",
      "it       514\n",
      "ru       389\n",
      "pt       240\n",
      "ja       225\n",
      "sv       122\n",
      "nl        97\n",
      "tr        64\n",
      "da        58\n",
      "pl        54\n",
      "cs        32\n",
      "no        30\n",
      "th        24\n",
      "el        24\n",
      "id        22\n",
      "hu        18\n",
      "fi        14\n",
      "is         5\n",
      "ca         5\n",
      "hr         2\n",
      "dtype: int64\n"
     ]
    }
   ],
   "source": [
    "#按照使用语言分类统计，并按照数量降序排列\n",
    "language_df = train_users_df.groupby('language').size().sort_values(ascending=False)\n",
    "print(language_df)"
   ]
  },
  {
   "cell_type": "markdown",
   "metadata": {},
   "source": [
    "4.国家目的地"
   ]
  },
  {
   "cell_type": "code",
   "execution_count": 12,
   "metadata": {},
   "outputs": [
    {
     "name": "stdout",
     "output_type": "stream",
     "text": [
      "country_destination\n",
      "US       62376\n",
      "other    10094\n",
      "FR        5023\n",
      "IT        2835\n",
      "GB        2324\n",
      "ES        2249\n",
      "CA        1428\n",
      "DE        1061\n",
      "NL         762\n",
      "AU         539\n",
      "PT         217\n",
      "dtype: int64\n"
     ]
    }
   ],
   "source": [
    "#过滤无数据，按照目标国家统计，并降序排列\n",
    "country_df = train_users_df[train_users_df['country_destination'] != 'NDF'].groupby('country_destination').size().sort_values(ascending=False)\n",
    "print(country_df)"
   ]
  },
  {
   "cell_type": "markdown",
   "metadata": {},
   "source": [
    "5.用户来源"
   ]
  },
  {
   "cell_type": "code",
   "execution_count": 13,
   "metadata": {},
   "outputs": [
    {
     "name": "stdout",
     "output_type": "stream",
     "text": [
      "signup_app\n",
      "Web        182717\n",
      "iOS         19019\n",
      "Moweb        6261\n",
      "Android      5454\n",
      "dtype: int64\n"
     ]
    }
   ],
   "source": [
    "#用户来源\n",
    "sign_app_df = train_users_df[train_users_df['signup_app'] != 'NDF'].groupby('signup_app').size().sort_values(ascending=False)\n",
    "print(sign_app_df)"
   ]
  },
  {
   "cell_type": "code",
   "execution_count": 14,
   "metadata": {},
   "outputs": [
    {
     "name": "stdout",
     "output_type": "stream",
     "text": [
      "first_device_type\n",
      "Mac Desktop           86839\n",
      "Windows Desktop       70887\n",
      "iPad                  13033\n",
      "Other/Unknown          4773\n",
      "iPhone                 4050\n",
      "Desktop (Other)        1145\n",
      "Android Tablet         1096\n",
      "Android Phone           842\n",
      "SmartPhone (Other)       52\n",
      "dtype: int64\n"
     ]
    }
   ],
   "source": [
    "#web端访问来源\n",
    "web_device_type_df = train_users_df[train_users_df['signup_app'] == 'Web'].groupby('first_device_type').size().sort_values(ascending=False)\n",
    "print(web_device_type_df)"
   ]
  },
  {
   "cell_type": "code",
   "execution_count": 15,
   "metadata": {},
   "outputs": [
    {
     "name": "stdout",
     "output_type": "stream",
     "text": [
      "year_month\n",
      "2010-01       61\n",
      "2010-02      102\n",
      "2010-03      163\n",
      "2010-04      157\n",
      "2010-05      227\n",
      "2010-06      222\n",
      "2010-07      307\n",
      "2010-08      312\n",
      "2010-09      371\n",
      "2010-10      309\n",
      "2010-11      286\n",
      "2010-12      271\n",
      "2011-01      316\n",
      "2011-02      362\n",
      "2011-03      491\n",
      "2011-04      577\n",
      "2011-05      744\n",
      "2011-06      822\n",
      "2011-07      993\n",
      "2011-08     1454\n",
      "2011-09     1864\n",
      "2011-10     1477\n",
      "2011-11     1386\n",
      "2011-12     1289\n",
      "2012-01     1589\n",
      "2012-02     1789\n",
      "2012-03     2192\n",
      "2012-04     2589\n",
      "2012-05     3325\n",
      "2012-06     3867\n",
      "2012-07     4582\n",
      "2012-08     4476\n",
      "2012-09     4035\n",
      "2012-10     3828\n",
      "2012-11     3706\n",
      "2012-12     3484\n",
      "2013-01     4418\n",
      "2013-02     4362\n",
      "2013-03     5421\n",
      "2013-04     5855\n",
      "2013-05     6721\n",
      "2013-06     6765\n",
      "2013-07     7950\n",
      "2013-08     8369\n",
      "2013-09     9125\n",
      "2013-10     7862\n",
      "2013-11     7751\n",
      "2013-12     8361\n",
      "2014-01    11111\n",
      "2014-02     9967\n",
      "2014-03    12058\n",
      "2014-04    12689\n",
      "2014-05    14895\n",
      "2014-06    15746\n",
      "dtype: int64\n"
     ]
    }
   ],
   "source": [
    "#新用户量随时间的变化\n",
    "train_users_df['year_month'] = train_users_df['date_account_created'].apply(lambda x : x.strftime('%Y-%m'))\n",
    "account_crea_df = train_users_df.groupby(\"year_month\").size()\n",
    "print(account_crea_df)"
   ]
  },
  {
   "cell_type": "code",
   "execution_count": 16,
   "metadata": {},
   "outputs": [
    {
     "name": "stdout",
     "output_type": "stream",
     "text": [
      "          channel    provider  渠道预定数量  渠道全部数量                    类型        占比\n",
      "30            seo      google    2739    5691            seo-google  0.481286\n",
      "7           other  craigslist    1616    3471      other-craigslist  0.465572\n",
      "29            seo    facebook     724    1677          seo-facebook  0.431723\n",
      "5          direct      direct   59234  137426         direct-direct  0.431025\n",
      "16      sem-brand      google   10705   25069      sem-brand-google  0.427021\n",
      "11          other       other    1508    3656           other-other  0.412473\n",
      "15      sem-brand        bing     375     950        sem-brand-bing  0.394737\n",
      "23  sem-non-brand      google    6516   16947  sem-non-brand-google  0.384493\n",
      "0             api       other    2785    8167             api-other  0.341006\n",
      "13    remarketing      google     368    1094    remarketing-google  0.336380\n",
      "21  sem-non-brand        bing     296     889    sem-non-brand-bing  0.332958\n",
      "12          other   padmapper     252     768       other-padmapper  0.328125\n",
      "26  sem-non-brand        vast     271     829    sem-non-brand-vast  0.326900\n",
      "2         content      google     451    2892        content-google  0.155947\n"
     ]
    }
   ],
   "source": [
    "#预定人群渠道转化分析\n",
    "af_prv_df = train_users_df[(train_users_df['date_first_booking'].notnull())].groupby(['affiliate_channel','affiliate_provider']).size().to_frame()\n",
    "af_prv_df_1 = train_users_df.groupby(['affiliate_channel','affiliate_provider']).size().to_frame()\n",
    "af_prv_df = af_prv_df.merge(af_prv_df_1, how='inner', left_index=True , right_index=True).reset_index()\n",
    "af_prv_df.columns = ['channel','provider','渠道预定数量','渠道全部数量']\n",
    "af_prv_df = af_prv_df[af_prv_df['渠道预定数量'] > 200]\n",
    "af_prv_df['类型'] = af_prv_df['channel'] + '-' + af_prv_df['provider']\n",
    "af_prv_df['占比'] = af_prv_df['渠道预定数量'] /af_prv_df['渠道全部数量']\n",
    "print(af_prv_df.sort_values('占比',ascending=False))"
   ]
  },
  {
   "cell_type": "code",
   "execution_count": 17,
   "metadata": {},
   "outputs": [
    {
     "name": "stdout",
     "output_type": "stream",
     "text": [
      "          营销广告来源  该来源预定人数  该来源全部人数        占比\n",
      "2      marketing       63      139  0.453237\n",
      "0         linked    20102    46287  0.434290\n",
      "3            omg    16425    43982  0.373448\n",
      "5  tracked-other     2290     6156  0.371995\n",
      "4        product      542     1556  0.348329\n",
      "1      local ops        9       34  0.264706\n"
     ]
    }
   ],
   "source": [
    "#预定人群广告转化分析\n",
    "first_aff_trac_df = train_users_df[(train_users_df['date_first_booking'].notnull())].groupby(['first_affiliate_tracked']).size().to_frame()\n",
    "first_aff_trac_df_1 = train_users_df.groupby(['first_affiliate_tracked']).size().to_frame()\n",
    "first_aff_trac_df = first_aff_trac_df.merge(first_aff_trac_df_1, how='inner', left_index=True , right_index=True).reset_index()\n",
    "first_aff_trac_df.columns = ['营销广告来源','该来源预定人数','该来源全部人数']\n",
    "#first_aff_trac_df = first_aff_trac_df[first_aff_trac_df['渠道预定数量'] > 200]\n",
    "#first_aff_trac_df['类型'] = first_aff_trac_df['channel'] + '-' + first_aff_trac_df['provider']\n",
    "first_aff_trac_df['占比'] = first_aff_trac_df['该来源预定人数'] /first_aff_trac_df['该来源全部人数']\n",
    "first_aff_trac_df = first_aff_trac_df[first_aff_trac_df['营销广告来源'] != 'untracked']\n",
    "print(first_aff_trac_df.sort_values('占比',ascending=False))"
   ]
  },
  {
   "cell_type": "code",
   "execution_count": 18,
   "metadata": {},
   "outputs": [],
   "source": [
    "sessions_df = pd.read_csv(basic_path + r'\\sessions.csv')"
   ]
  },
  {
   "cell_type": "code",
   "execution_count": 19,
   "metadata": {},
   "outputs": [
    {
     "name": "stdout",
     "output_type": "stream",
     "text": [
      "      user_id          action action_type        action_detail  \\\n",
      "0  d1mm9tcy42          lookup         NaN                  NaN   \n",
      "1  d1mm9tcy42  search_results       click  view_search_results   \n",
      "2  d1mm9tcy42          lookup         NaN                  NaN   \n",
      "3  d1mm9tcy42  search_results       click  view_search_results   \n",
      "4  d1mm9tcy42          lookup         NaN                  NaN   \n",
      "\n",
      "       device_type  secs_elapsed  \n",
      "0  Windows Desktop         319.0  \n",
      "1  Windows Desktop       67753.0  \n",
      "2  Windows Desktop         301.0  \n",
      "3  Windows Desktop       22141.0  \n",
      "4  Windows Desktop         435.0  \n"
     ]
    }
   ],
   "source": [
    "print(sessions_df.head())"
   ]
  },
  {
   "cell_type": "code",
   "execution_count": 20,
   "metadata": {},
   "outputs": [
    {
     "name": "stdout",
     "output_type": "stream",
     "text": [
      "135484\n"
     ]
    }
   ],
   "source": [
    "#总用户量\n",
    "total_user_df = sessions_df.drop_duplicates('user_id')\n",
    "print(total_user_df.shape[0])"
   ]
  },
  {
   "cell_type": "code",
   "execution_count": 21,
   "metadata": {},
   "outputs": [
    {
     "name": "stdout",
     "output_type": "stream",
     "text": [
      "73815\n"
     ]
    }
   ],
   "source": [
    "#注册用户数  ！！！注意count 和size的区别！！！\n",
    "user_creat_df = total_user_df[['user_id','action_detail']].merge(train_users_df[['id','date_account_created']],how = 'left',left_on = 'user_id',right_on = 'id')\n",
    "print(user_creat_df['date_account_created'].count())"
   ]
  },
  {
   "cell_type": "code",
   "execution_count": 30,
   "metadata": {},
   "outputs": [
    {
     "name": "stdout",
     "output_type": "stream",
     "text": [
      "111977\n"
     ]
    }
   ],
   "source": [
    "#定义用户在平台浏览次数超过10次即为活跃用户。活跃用户数为\n",
    "n_df = sessions_df[['user_id','action_detail']].merge(train_users_df[['id','date_account_created']],how = 'left',left_on = 'user_id',right_on = 'id')\n",
    "#n_df = n_df[n_df['date_account_created'].notnull()]\n",
    "n_df = n_df.groupby('user_id').size().to_frame().reset_index()\n",
    "n_df.columns = ['user_id','num']\n",
    "n_df = n_df[n_df['num']>10]\n",
    "print(n_df.shape[0])"
   ]
  },
  {
   "cell_type": "code",
   "execution_count": 23,
   "metadata": {},
   "outputs": [
    {
     "name": "stdout",
     "output_type": "stream",
     "text": [
      "10366\n"
     ]
    }
   ],
   "source": [
    "#注册用户中提交过订单信息的用户数\n",
    "place_order_df = user_creat_df[user_creat_df['date_account_created'].notnull()]\n",
    "place_order_df = sessions_df[sessions_df['action_detail'] == 'reservations'].groupby('user_id').size()\n",
    "print(place_order_df.count())\n"
   ]
  },
  {
   "cell_type": "code",
   "execution_count": 24,
   "metadata": {},
   "outputs": [
    {
     "name": "stdout",
     "output_type": "stream",
     "text": [
      "9018\n"
     ]
    }
   ],
   "source": [
    "#注册用户中成功支付的用户数\n",
    "place_order_df = user_creat_df[user_creat_df['date_account_created'].notnull()]\n",
    "place_order_df = sessions_df[sessions_df['action_detail'] == 'payment_instruments'].groupby('user_id').size()\n",
    "print(place_order_df.count())"
   ]
  },
  {
   "cell_type": "code",
   "execution_count": 25,
   "metadata": {},
   "outputs": [
    {
     "name": "stdout",
     "output_type": "stream",
     "text": [
      "user_id    4153\n",
      "num        4153\n",
      "dtype: int64\n"
     ]
    }
   ],
   "source": [
    "re_pay_user_df = place_order_df.to_frame().reset_index()\n",
    "re_pay_user_df.columns = [\"user_id\",\"num\"]\n",
    "re_pay_user_df = re_pay_user_df[re_pay_user_df['num'] > 1]\n",
    "print(re_pay_user_df.count())"
   ]
  },
  {
   "cell_type": "code",
   "execution_count": null,
   "metadata": {},
   "outputs": [],
   "source": []
  }
 ],
 "metadata": {
  "kernelspec": {
   "display_name": "Python 3",
   "language": "python",
   "name": "python3"
  },
  "language_info": {
   "codemirror_mode": {
    "name": "ipython",
    "version": 3
   },
   "file_extension": ".py",
   "mimetype": "text/x-python",
   "name": "python",
   "nbconvert_exporter": "python",
   "pygments_lexer": "ipython3",
   "version": "3.8.5"
  }
 },
 "nbformat": 4,
 "nbformat_minor": 5
}
